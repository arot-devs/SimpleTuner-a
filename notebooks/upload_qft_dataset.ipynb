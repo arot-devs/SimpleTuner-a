{
 "cells": [
  {
   "cell_type": "code",
   "execution_count": 1,
   "id": "d7e85c7e",
   "metadata": {},
   "outputs": [
    {
     "data": {
      "application/vnd.jupyter.widget-view+json": {
       "model_id": "93361f03a87b47098f2a3dd9fc13c568",
       "version_major": 2,
       "version_minor": 0
      },
      "text/plain": [
       "Casting the dataset:   0%|          | 0/447 [00:00<?, ? examples/s]"
      ]
     },
     "metadata": {},
     "output_type": "display_data"
    },
    {
     "name": "stdout",
     "output_type": "stream",
     "text": [
      "Dataset created with 447 images\n",
      "Columns: ['image', 'filename', 'label']\n"
     ]
    },
    {
     "data": {
      "application/vnd.jupyter.widget-view+json": {
       "model_id": "75f7764a72424b50a9b21f3ca8fdfd86",
       "version_major": 2,
       "version_minor": 0
      },
      "text/plain": [
       "Uploading the dataset shards:   0%|          | 0/3 [00:00<?, ?it/s]"
      ]
     },
     "metadata": {},
     "output_type": "display_data"
    },
    {
     "data": {
      "application/vnd.jupyter.widget-view+json": {
       "model_id": "953eb9b764a24d609180db6fc85dd5d7",
       "version_major": 2,
       "version_minor": 0
      },
      "text/plain": [
       "Map:   0%|          | 0/149 [00:00<?, ? examples/s]"
      ]
     },
     "metadata": {},
     "output_type": "display_data"
    },
    {
     "data": {
      "application/vnd.jupyter.widget-view+json": {
       "model_id": "4ec6d3787d6a4ff49de1c3af1c87ab3d",
       "version_major": 2,
       "version_minor": 0
      },
      "text/plain": [
       "Creating parquet from Arrow format:   0%|          | 0/2 [00:00<?, ?ba/s]"
      ]
     },
     "metadata": {},
     "output_type": "display_data"
    },
    {
     "data": {
      "application/vnd.jupyter.widget-view+json": {
       "model_id": "c6a057aa48454616b9fb0fadcd53afac",
       "version_major": 2,
       "version_minor": 0
      },
      "text/plain": [
       "Map:   0%|          | 0/149 [00:00<?, ? examples/s]"
      ]
     },
     "metadata": {},
     "output_type": "display_data"
    },
    {
     "data": {
      "application/vnd.jupyter.widget-view+json": {
       "model_id": "28687ae01df144c7b05475998ecb0dad",
       "version_major": 2,
       "version_minor": 0
      },
      "text/plain": [
       "Creating parquet from Arrow format:   0%|          | 0/2 [00:00<?, ?ba/s]"
      ]
     },
     "metadata": {},
     "output_type": "display_data"
    },
    {
     "data": {
      "application/vnd.jupyter.widget-view+json": {
       "model_id": "24bf1e72af984aef91f11cbf5b2362ac",
       "version_major": 2,
       "version_minor": 0
      },
      "text/plain": [
       "Map:   0%|          | 0/149 [00:00<?, ? examples/s]"
      ]
     },
     "metadata": {},
     "output_type": "display_data"
    },
    {
     "data": {
      "application/vnd.jupyter.widget-view+json": {
       "model_id": "39986ccf984742da82ef670e6a83251d",
       "version_major": 2,
       "version_minor": 0
      },
      "text/plain": [
       "Creating parquet from Arrow format:   0%|          | 0/2 [00:00<?, ?ba/s]"
      ]
     },
     "metadata": {},
     "output_type": "display_data"
    }
   ],
   "source": [
    "import os\n",
    "import glob\n",
    "import json\n",
    "from datasets import Dataset, Features, Value, Image as HFImage\n",
    "\n",
    "def create_image_dataset(base_dir, mode=\"json\"):\n",
    "    \"\"\"\n",
    "    Creates a HuggingFace dataset from images and optional label/metadata files.\n",
    "\n",
    "    Args:\n",
    "        base_dir (str): Directory containing image files and corresponding label files\n",
    "        mode (str): One of ['json', 'txt', 'image_only']\n",
    "\n",
    "    Returns:\n",
    "        datasets.Dataset: A HuggingFace dataset\n",
    "    \"\"\"\n",
    "    assert mode in {\"json\", \"txt\", \"image_only\"}, f\"Unsupported mode: {mode}\"\n",
    "\n",
    "    images = []\n",
    "    filenames = []\n",
    "    extra_columns = {}\n",
    "\n",
    "    # Collect image paths\n",
    "    image_extensions = ['*.jpg', '*.jpeg', '*.png', '*.webp']\n",
    "    image_files = []\n",
    "    for ext in image_extensions:\n",
    "        image_files.extend(glob.glob(os.path.join(base_dir, ext)))\n",
    "        image_files.extend(glob.glob(os.path.join(base_dir, ext.upper())))\n",
    "\n",
    "    for image_file in image_files:\n",
    "        base_name = os.path.splitext(os.path.basename(image_file))[0]\n",
    "\n",
    "        images.append(image_file)\n",
    "        filenames.append(os.path.basename(image_file))\n",
    "\n",
    "        if mode == \"txt\":\n",
    "            txt_file = os.path.join(base_dir, f\"{base_name}.txt\")\n",
    "            label = \"\"\n",
    "            if os.path.exists(txt_file):\n",
    "                try:\n",
    "                    with open(txt_file, 'r') as f:\n",
    "                        label = f.read().strip()\n",
    "                except Exception as e:\n",
    "                    print(f\"Error reading {txt_file}: {e}\")\n",
    "            extra_columns.setdefault(\"label\", []).append(label)\n",
    "\n",
    "        elif mode == \"json\":\n",
    "            json_file = os.path.join(base_dir, f\"{base_name}.json\")\n",
    "            if os.path.exists(json_file):\n",
    "                try:\n",
    "                    with open(json_file, 'r') as f:\n",
    "                        data = json.load(f)\n",
    "                    for k, v in data.items():\n",
    "                        extra_columns.setdefault(k, []).append(str(v))\n",
    "                    for k in extra_columns:\n",
    "                        if k not in data:\n",
    "                            extra_columns[k].append(\"\")\n",
    "                except Exception as e:\n",
    "                    print(f\"Error reading {json_file}: {e}\")\n",
    "                    for k in extra_columns:\n",
    "                        extra_columns[k].append(\"\")\n",
    "            else:\n",
    "                for k in extra_columns:\n",
    "                    extra_columns[k].append(\"\")\n",
    "\n",
    "    # Assemble dataset dict\n",
    "    dataset_dict = {\n",
    "        \"image\": images,\n",
    "        \"filename\": filenames,\n",
    "        **extra_columns\n",
    "    }\n",
    "\n",
    "    # Define features\n",
    "    features = {\n",
    "        \"image\": HFImage(),\n",
    "        \"filename\": Value(\"string\")\n",
    "    }\n",
    "    for k in extra_columns:\n",
    "        features[k] = Value(\"string\")\n",
    "\n",
    "    dataset = Dataset.from_dict(dataset_dict)\n",
    "    dataset = dataset.cast(Features(features))\n",
    "    return dataset\n",
    "\n",
    "if __name__ == \"__main__\":\n",
    "    base_dir = \"/local/yada/apps/SimpleTuner-a/data/b74444\"\n",
    "    mode = \"txt\"  # options: \"json\", \"txt\", \"image_only\"\n",
    "\n",
    "    dataset = create_image_dataset(base_dir, mode=mode)\n",
    "    \n",
    "    print(f\"Dataset created with {len(dataset)} images\")\n",
    "    print(f\"Columns: {dataset.column_names}\")\n",
    "\n",
    "    dataset.push_to_hub(\"incantor/qft-b74444-anime-400p\", private=True)\n"
   ]
  }
 ],
 "metadata": {
  "kernelspec": {
   "display_name": "base",
   "language": "python",
   "name": "python3"
  },
  "language_info": {
   "codemirror_mode": {
    "name": "ipython",
    "version": 3
   },
   "file_extension": ".py",
   "mimetype": "text/x-python",
   "name": "python",
   "nbconvert_exporter": "python",
   "pygments_lexer": "ipython3",
   "version": "3.10.16"
  }
 },
 "nbformat": 4,
 "nbformat_minor": 5
}
