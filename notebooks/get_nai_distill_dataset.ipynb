{
 "cells": [
  {
   "cell_type": "markdown",
   "id": "28e606db",
   "metadata": {},
   "source": [
    "getting dataset from previous runs and prep for training:\n",
    "\n",
    "(since natural image flopped horendously, try if synthetic data is more efficient; i guess it really is)"
   ]
  },
  {
   "cell_type": "code",
   "execution_count": 11,
   "id": "03810571",
   "metadata": {},
   "outputs": [],
   "source": [
    "# list datasets in org\n",
    "\n",
    "curr_org = \"distill-lab\"\n",
    "\n",
    "from huggingface_hub import HfApi\n",
    "\n",
    "api = HfApi()\n",
    "datasets = api.list_datasets(\n",
    "    author=curr_org,\n",
    ")\n",
    "\n",
    "res = [i for i in datasets]"
   ]
  },
  {
   "cell_type": "code",
   "execution_count": 23,
   "id": "10663e60",
   "metadata": {},
   "outputs": [
    {
     "data": {
      "text/plain": [
       "['distill-lab/nai-distill-artist_v1-batch0_eagle.library',\n",
       " 'distill-lab/nai-distill-artist_v1-batch1_eagle.library']"
      ]
     },
     "execution_count": 23,
     "metadata": {},
     "output_type": "execute_result"
    }
   ],
   "source": [
    "ids = [i.id for i in res]\n",
    "\n",
    "artist_ids = [i for i in ids if \"ai-distill-artist_v1-\" in i and \"eagle.library\" in i]\n",
    "artist_ids"
   ]
  },
  {
   "cell_type": "code",
   "execution_count": 41,
   "id": "6da3b5cf",
   "metadata": {},
   "outputs": [
    {
     "name": "stdout",
     "output_type": "stream",
     "text": [
      "\u001b[37m2025-04-14 17:31:14 [INFO] loads: Loading from hf://distill-lab/nai-distill-artist_v1-batch1_eagle.library\u001b[0m\n"
     ]
    },
    {
     "data": {
      "application/vnd.jupyter.widget-view+json": {
       "model_id": "f99a2fac91c1499688fd83098b9c4023",
       "version_major": 2,
       "version_minor": 0
      },
      "text/plain": [
       "README.md:   0%|          | 0.00/1.58k [00:00<?, ?B/s]"
      ]
     },
     "metadata": {},
     "output_type": "display_data"
    },
    {
     "name": "stderr",
     "output_type": "stream",
     "text": [
      "Setting num_proc from 8 to 5 for the train split as it only contains 5 shards.\n"
     ]
    },
    {
     "data": {
      "application/vnd.jupyter.widget-view+json": {
       "model_id": "c0469059183a4bdc9966220f2abf71c8",
       "version_major": 2,
       "version_minor": 0
      },
      "text/plain": [
       "Generating train split:   0%|          | 0/2000 [00:00<?, ? examples/s]"
      ]
     },
     "metadata": {},
     "output_type": "display_data"
    }
   ],
   "source": [
    "import unibox as ub\n",
    "\n",
    "# df = ub.loads(\"hf://distill-lab/nai-distill-artist_v1-batch0_eagle.library\")\n",
    "df = ub.loads(\"hf://distill-lab/nai-distill-artist_v1-batch1_eagle.library\")"
   ]
  },
  {
   "cell_type": "code",
   "execution_count": 42,
   "id": "3de252af",
   "metadata": {},
   "outputs": [
    {
     "data": {
      "application/vnd.jupyter.widget-view+json": {
       "model_id": "8b397f00f58747ffa54cafa5bdba387b",
       "version_major": 2,
       "version_minor": 0
      },
      "text/plain": [
       "Filter:   0%|          | 0/2000 [00:00<?, ? examples/s]"
      ]
     },
     "metadata": {},
     "output_type": "display_data"
    },
    {
     "data": {
      "text/plain": [
       "240"
      ]
     },
     "execution_count": 42,
     "metadata": {},
     "output_type": "execute_result"
    }
   ],
   "source": [
    "# filter star to be 2; df is huggingface dataset\n",
    "\n",
    "df = df.filter(lambda x: x[\"star\"] == 2)\n",
    "len(df)"
   ]
  },
  {
   "cell_type": "code",
   "execution_count": 43,
   "id": "4dff072e",
   "metadata": {},
   "outputs": [],
   "source": [
    "import os\n",
    "\n",
    "save_dir = \"../data/artist_v1-batch01_kepts\"\n",
    "os.makedirs(save_dir, exist_ok=True)\n",
    "\n",
    "for item in df:\n",
    "    img_bytes = item[\"image\"][\"bytes\"]\n",
    "    filename = item[\"filename\"]\n",
    "\n",
    "    if img_bytes is None:\n",
    "        continue  # skip missing\n",
    "\n",
    "    # Save raw bytes as .png\n",
    "    with open(os.path.join(save_dir, filename), \"wb\") as f:\n",
    "        f.write(img_bytes)"
   ]
  },
  {
   "cell_type": "markdown",
   "id": "1250854d",
   "metadata": {},
   "source": [
    "write tags:\n",
    "\n",
    "this is a **COPY** of the original functionality in trainlib"
   ]
  },
  {
   "cell_type": "code",
   "execution_count": 49,
   "id": "11814abb",
   "metadata": {},
   "outputs": [],
   "source": [
    "from PIL import Image\n",
    "import numpy as np\n",
    "import gzip\n",
    "import json\n",
    "\n",
    "from io import BytesIO\n",
    "\n",
    "def byteize(alpha):\n",
    "    alpha = alpha.T.reshape((-1,))\n",
    "    alpha = alpha[:(alpha.shape[0] // 8) * 8]\n",
    "    alpha = np.bitwise_and(alpha, 1)\n",
    "    alpha = alpha.reshape((-1, 8))\n",
    "    alpha = np.packbits(alpha, axis=1)\n",
    "    return alpha\n",
    "\n",
    "\n",
    "\n",
    "class LSBExtractor:\n",
    "    def __init__(self, data):\n",
    "        self.data = byteize(data[..., -1])\n",
    "        self.pos = 0\n",
    "\n",
    "    def get_next_n_bytes(self, n):\n",
    "        n_bytes = self.data[self.pos:self.pos + n]\n",
    "        self.pos += n\n",
    "        return bytearray(n_bytes)\n",
    "\n",
    "    def read_32bit_integer(self):\n",
    "        bytes_list = self.get_next_n_bytes(4)\n",
    "        return int.from_bytes(bytes_list, 'big') if len(bytes_list) == 4 else None\n",
    "\n",
    "\n",
    "def extract_image_metadata(image: Image.Image) -> dict:\n",
    "    # Convert PIL Image to numpy array\n",
    "    image_array = np.array(image.convert(\"RGBA\"))\n",
    "    \n",
    "    # Verify image format\n",
    "    if image_array.shape[-1] != 4 or len(image_array.shape) != 3:\n",
    "        raise ValueError(\"Image must be in RGBA format\")\n",
    "\n",
    "    # Extract data\n",
    "    reader = LSBExtractor(image_array)\n",
    "    magic = \"stealth_pngcomp\"\n",
    "    read_magic = reader.get_next_n_bytes(len(magic)).decode(\"utf-8\")\n",
    "    \n",
    "    if magic != read_magic:\n",
    "        raise ValueError(\"Invalid magic number\")\n",
    "\n",
    "    # Get and decompress JSON data\n",
    "    json_len = reader.read_32bit_integer() // 8\n",
    "    compressed_json = reader.get_next_n_bytes(json_len)\n",
    "    json_data = json.loads(gzip.decompress(compressed_json).decode(\"utf-8\"))\n",
    "\n",
    "    # Handle nested Comment field if present\n",
    "    if \"Comment\" in json_data and isinstance(json_data[\"Comment\"], str):\n",
    "        json_data[\"Comment\"] = json.loads(json_data[\"Comment\"])\n",
    "\n",
    "    return json_data"
   ]
  },
  {
   "cell_type": "code",
   "execution_count": 57,
   "id": "87989bd0",
   "metadata": {},
   "outputs": [
    {
     "name": "stdout",
     "output_type": "stream",
     "text": [
      "\u001b[37m2025-04-14 17:48:34 [INFO] ls: Listing contents of ../data/artist_v1-batch01_kepts\u001b[0m\n"
     ]
    },
    {
     "data": {
      "application/vnd.jupyter.widget-view+json": {
       "model_id": "53ed0baded8241feb854275813c11dbf",
       "version_major": 2,
       "version_minor": 0
      },
      "text/plain": [
       "Listing local files: 0files [00:00, ?files/s]"
      ]
     },
     "metadata": {},
     "output_type": "display_data"
    }
   ],
   "source": [
    "img_paths = ub.ls(save_dir, ub.IMG_FILES)\n",
    "\n",
    "for curr_path in img_paths:\n",
    "    try:\n",
    "        img = Image.open(curr_path)\n",
    "        metadata = extract_image_metadata(img)\n",
    "        prompt = metadata.get(\"Description\", \"\")\n",
    "        caption = prompt.replace(\"{{7010 umou_(umouawa)}} {amagasa_yun} [[[ningen_mame]]] {{{very aesthetic}}} classic_(zildjian33) year_2024 aran_(aran0127), \", \"\")\n",
    "        caption = caption.replace(\", no text, best quality, very aesthetic, absurdres\", \"\").replace(\", general\", \"\")\n",
    "        ub.saves([caption], curr_path.replace(\".png\", \".txt\"), debug_print=False)\n",
    "    except Exception as e:\n",
    "        print(f\"Error processing {curr_path}: {e}\")"
   ]
  },
  {
   "cell_type": "code",
   "execution_count": 58,
   "id": "fc55e4cd",
   "metadata": {},
   "outputs": [
    {
     "data": {
      "text/plain": [
       "490"
      ]
     },
     "execution_count": 58,
     "metadata": {},
     "output_type": "execute_result"
    }
   ],
   "source": [
    "len(img_paths)"
   ]
  },
  {
   "cell_type": "markdown",
   "id": "a511190d",
   "metadata": {},
   "source": [
    "upload to huggingface just in case:"
   ]
  },
  {
   "cell_type": "code",
   "execution_count": 59,
   "id": "d5ca9598",
   "metadata": {},
   "outputs": [
    {
     "data": {
      "application/vnd.jupyter.widget-view+json": {
       "model_id": "0588c49aae8c46d0b35a733309cce3a7",
       "version_major": 2,
       "version_minor": 0
      },
      "text/plain": [
       "Casting the dataset:   0%|          | 0/490 [00:00<?, ? examples/s]"
      ]
     },
     "metadata": {},
     "output_type": "display_data"
    },
    {
     "name": "stdout",
     "output_type": "stream",
     "text": [
      "Dataset created with 490 images\n",
      "Columns: ['image', 'filename', 'label']\n"
     ]
    },
    {
     "data": {
      "application/vnd.jupyter.widget-view+json": {
       "model_id": "7c01ad20168d42dd927b1886a013950b",
       "version_major": 2,
       "version_minor": 0
      },
      "text/plain": [
       "Uploading the dataset shards:   0%|          | 0/2 [00:00<?, ?it/s]"
      ]
     },
     "metadata": {},
     "output_type": "display_data"
    },
    {
     "data": {
      "application/vnd.jupyter.widget-view+json": {
       "model_id": "672a7d24985945708a5a26abd00c822e",
       "version_major": 2,
       "version_minor": 0
      },
      "text/plain": [
       "Map:   0%|          | 0/245 [00:00<?, ? examples/s]"
      ]
     },
     "metadata": {},
     "output_type": "display_data"
    },
    {
     "data": {
      "application/vnd.jupyter.widget-view+json": {
       "model_id": "2dcc74de8de543be985cd17bcbf43e0f",
       "version_major": 2,
       "version_minor": 0
      },
      "text/plain": [
       "Creating parquet from Arrow format:   0%|          | 0/3 [00:00<?, ?ba/s]"
      ]
     },
     "metadata": {},
     "output_type": "display_data"
    },
    {
     "data": {
      "application/vnd.jupyter.widget-view+json": {
       "model_id": "b8298567b92747c5b0a73f33cd694bce",
       "version_major": 2,
       "version_minor": 0
      },
      "text/plain": [
       "Map:   0%|          | 0/245 [00:00<?, ? examples/s]"
      ]
     },
     "metadata": {},
     "output_type": "display_data"
    },
    {
     "data": {
      "application/vnd.jupyter.widget-view+json": {
       "model_id": "94ebf087e7c74543bcc4ad483148bc0e",
       "version_major": 2,
       "version_minor": 0
      },
      "text/plain": [
       "Creating parquet from Arrow format:   0%|          | 0/3 [00:00<?, ?ba/s]"
      ]
     },
     "metadata": {},
     "output_type": "display_data"
    }
   ],
   "source": [
    "\n",
    "import os\n",
    "import glob\n",
    "import json\n",
    "from datasets import Dataset, Features, Value, Image as HFImage\n",
    "\n",
    "def create_image_dataset(base_dir, mode=\"json\"):\n",
    "    \"\"\"\n",
    "    Creates a HuggingFace dataset from images and optional label/metadata files.\n",
    "\n",
    "    Args:\n",
    "        base_dir (str): Directory containing image files and corresponding label files\n",
    "        mode (str): One of ['json', 'txt', 'image_only']\n",
    "\n",
    "    Returns:\n",
    "        datasets.Dataset: A HuggingFace dataset\n",
    "    \"\"\"\n",
    "    assert mode in {\"json\", \"txt\", \"image_only\"}, f\"Unsupported mode: {mode}\"\n",
    "\n",
    "    images = []\n",
    "    filenames = []\n",
    "    extra_columns = {}\n",
    "\n",
    "    # Collect image paths\n",
    "    image_extensions = ['*.jpg', '*.jpeg', '*.png', '*.webp']\n",
    "    image_files = []\n",
    "    for ext in image_extensions:\n",
    "        image_files.extend(glob.glob(os.path.join(base_dir, ext)))\n",
    "        image_files.extend(glob.glob(os.path.join(base_dir, ext.upper())))\n",
    "\n",
    "    for image_file in image_files:\n",
    "        base_name = os.path.splitext(os.path.basename(image_file))[0]\n",
    "\n",
    "        images.append(image_file)\n",
    "        filenames.append(os.path.basename(image_file))\n",
    "\n",
    "        if mode == \"txt\":\n",
    "            txt_file = os.path.join(base_dir, f\"{base_name}.txt\")\n",
    "            label = \"\"\n",
    "            if os.path.exists(txt_file):\n",
    "                try:\n",
    "                    with open(txt_file, 'r') as f:\n",
    "                        label = f.read().strip()\n",
    "                except Exception as e:\n",
    "                    print(f\"Error reading {txt_file}: {e}\")\n",
    "            extra_columns.setdefault(\"label\", []).append(label)\n",
    "\n",
    "        elif mode == \"json\":\n",
    "            json_file = os.path.join(base_dir, f\"{base_name}.json\")\n",
    "            if os.path.exists(json_file):\n",
    "                try:\n",
    "                    with open(json_file, 'r') as f:\n",
    "                        data = json.load(f)\n",
    "                    for k, v in data.items():\n",
    "                        extra_columns.setdefault(k, []).append(str(v))\n",
    "                    for k in extra_columns:\n",
    "                        if k not in data:\n",
    "                            extra_columns[k].append(\"\")\n",
    "                except Exception as e:\n",
    "                    print(f\"Error reading {json_file}: {e}\")\n",
    "                    for k in extra_columns:\n",
    "                        extra_columns[k].append(\"\")\n",
    "            else:\n",
    "                for k in extra_columns:\n",
    "                    extra_columns[k].append(\"\")\n",
    "\n",
    "    # Assemble dataset dict\n",
    "    dataset_dict = {\n",
    "        \"image\": images,\n",
    "        \"filename\": filenames,\n",
    "        **extra_columns\n",
    "    }\n",
    "\n",
    "    # Define features\n",
    "    features = {\n",
    "        \"image\": HFImage(),\n",
    "        \"filename\": Value(\"string\")\n",
    "    }\n",
    "    for k in extra_columns:\n",
    "        features[k] = Value(\"string\")\n",
    "\n",
    "    dataset = Dataset.from_dict(dataset_dict)\n",
    "    dataset = dataset.cast(Features(features))\n",
    "    return dataset\n",
    "\n",
    "if __name__ == \"__main__\":\n",
    "    base_dir = \"/local/yada/apps/SimpleTuner-a/data/artist_v1-batch01_kepts\"\n",
    "    mode = \"txt\"  # options: \"json\", \"txt\", \"image_only\"\n",
    "\n",
    "    dataset = create_image_dataset(base_dir, mode=mode)\n",
    "    \n",
    "    print(f\"Dataset created with {len(dataset)} images\")\n",
    "    print(f\"Columns: {dataset.column_names}\")\n",
    "\n",
    "    dataset.push_to_hub(\"incantor/qft-nai4-artist-b1b2\", private=True)\n"
   ]
  }
 ],
 "metadata": {
  "kernelspec": {
   "display_name": "base",
   "language": "python",
   "name": "python3"
  },
  "language_info": {
   "codemirror_mode": {
    "name": "ipython",
    "version": 3
   },
   "file_extension": ".py",
   "mimetype": "text/x-python",
   "name": "python",
   "nbconvert_exporter": "python",
   "pygments_lexer": "ipython3",
   "version": "3.10.16"
  }
 },
 "nbformat": 4,
 "nbformat_minor": 5
}
