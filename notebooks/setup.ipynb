{
 "cells": [
  {
   "cell_type": "code",
   "execution_count": null,
   "id": "6bfab619",
   "metadata": {},
   "outputs": [],
   "source": [
    "conda create --name simpletuner python=3.12 ipykernel -y \n",
    "conda activate simpletuner\n",
    "\n",
    "\n",
    "# for scripy\n",
    "apt-get update && apt-get install -y gfortran  \n",
    "apt-get update && apt-get install -y \\\n",
    "  pkg-config \\\n",
    "  cmake \\\n",
    "  libopenblas-dev \\\n",
    "  liblapack-dev\n",
    "\n",
    "# manually install torch 2.6\n",
    "pip install torch torchvision torchaudio --extra-index-url https://download.pytorch.org/whl/cu126\n",
    "\n",
    "\n",
    "# patched to remove some old deps; then install reqs\n",
    "pip install -r requirements.txt"
   ]
  },
  {
   "cell_type": "code",
   "execution_count": null,
   "id": "4c127507",
   "metadata": {},
   "outputs": [],
   "source": [
    "# fix triton\n",
    "pip install --force-reinstall -v \"triton==3.1.0\"\n",
    "\n",
    "pip install sentencepiece\n",
    "\n",
    "# (torch 2.6.0+cu126 requires triton==3.2.0; platform_system == \"Linux\" and platform_machine == \"x86_64\", but you have triton 3.1.0 which is incompatible.)"
   ]
  },
  {
   "cell_type": "markdown",
   "id": "17c6e834",
   "metadata": {},
   "source": [
    "get some data:"
   ]
  },
  {
   "cell_type": "code",
   "execution_count": 1,
   "id": "2764441e",
   "metadata": {},
   "outputs": [],
   "source": [
    "!export CUDA_VISIBLE_DEVICES=1"
   ]
  },
  {
   "cell_type": "code",
   "execution_count": null,
   "id": "9f0413f8",
   "metadata": {},
   "outputs": [],
   "source": [
    "# !wget https://huggingface.co/b74444/style1/resolve/main/base.zip\n",
    "# !unzip /local/yada/apps/SimpleTuner-a/notebooks/base.zip\n",
    "# !wget https://huggingface.co/b74444/style1/resolve/main/dark%20and%20bright.zip\n",
    "# !unzip \"dark and bright.zip\""
   ]
  },
  {
   "cell_type": "code",
   "execution_count": null,
   "id": "cc7f1e10",
   "metadata": {},
   "outputs": [],
   "source": []
  },
  {
   "cell_type": "markdown",
   "id": "532f6674",
   "metadata": {},
   "source": [
    "get tagging:"
   ]
  },
  {
   "cell_type": "code",
   "execution_count": 1,
   "id": "c1789153",
   "metadata": {},
   "outputs": [
    {
     "name": "stdout",
     "output_type": "stream",
     "text": [
      "Failed to load anime_aesthetic.AnimeAestheticInference: No module named 'pytorch_lightning'\n",
      "Using global temporary directory: /tmp/unibox_temp\n",
      "Failed to load complexity_ic9600.IC9600Inference: No module named 'pytorch_lightning'\n",
      "Failed to load cv2_wrapper.OpenCVMetricsInference: No module named 'skimage'\n",
      "Failed to load pixiv_compound_score.PixivCompoundScoreInference: No module named 'pytorch_lightning'\n",
      "Failed to load siglip_aesthetics.SiglipAestheticInference: No module named 'aesthetic_predictor_v2_5'\n"
     ]
    }
   ],
   "source": [
    "from procslib import get_model, get_model_keys\n",
    "model = get_model(\"wdv3_tagger_timm\")"
   ]
  },
  {
   "cell_type": "code",
   "execution_count": null,
   "id": "d524894c",
   "metadata": {},
   "outputs": [
    {
     "name": "stdout",
     "output_type": "stream",
     "text": [
      "\u001b[37m2025-04-13 20:06:45 [INFO] ls: Listing contents of /local/yada/apps/SimpleTuner-a/data/b74444\u001b[0m\n"
     ]
    },
    {
     "data": {
      "application/vnd.jupyter.widget-view+json": {
       "model_id": "270f6d9c7cf54555af0b693301c40ed2",
       "version_major": 2,
       "version_minor": 0
      },
      "text/plain": [
       "Listing local files: 0files [00:00, ?files/s]"
      ]
     },
     "metadata": {},
     "output_type": "display_data"
    },
    {
     "data": {
      "application/vnd.jupyter.widget-view+json": {
       "model_id": "fab361c4651944c18989b94c447bd703",
       "version_major": 2,
       "version_minor": 0
      },
      "text/plain": [
       "Inferring tags:   0%|          | 0/28 [00:00<?, ?it/s]"
      ]
     },
     "metadata": {},
     "output_type": "display_data"
    }
   ],
   "source": [
    "import unibox as ub\n",
    "imgs = ub.ls(\"/local/yada/apps/SimpleTuner-a/data/b74444\", ub.IMG_FILES)\n",
    "\n",
    "tags = model.infer_many(imgs)"
   ]
  },
  {
   "cell_type": "code",
   "execution_count": 6,
   "id": "0b200cdb",
   "metadata": {},
   "outputs": [],
   "source": [
    "import os\n",
    "\n",
    "PREFIX = \"an anime illustration of \"\n",
    "\n",
    "for _, row in tags.iterrows():\n",
    "    _caption = row[\"caption\"]\n",
    "    _path = row[\"path\"]\n",
    "\n",
    "    _caption = PREFIX + _caption\n",
    "\n",
    "    txt_path = os.path.splitext(_path)[0] + \".txt\"\n",
    "    with open(txt_path, \"w\", encoding=\"utf-8\") as f:\n",
    "        f.write(_caption)"
   ]
  },
  {
   "cell_type": "code",
   "execution_count": 9,
   "id": "36063fef",
   "metadata": {},
   "outputs": [
    {
     "data": {
      "text/plain": [
       "'2girls, multiple girls, yuri, long hair, blonde hair, kimono, food, japanese clothes, candy apple, black hair, fireworks, short hair, floral print, red eyes, hair ribbon, blue kimono, closed eyes, ribbon, red ribbon, outdoors, hair ornament, blush, print kimono, one side up, imminent kiss, long sleeves, sash, open mouth, obi, yukata, upper body, shared food, flower, hair flower, pink kimono, signature, night, sidelocks, looking at another, sky, feeding, wide sleeves, nishikigi chisato, inoue takina'"
      ]
     },
     "execution_count": 9,
     "metadata": {},
     "output_type": "execute_result"
    }
   ],
   "source": [
    "tags[\"taglist\"].iloc[0]"
   ]
  },
  {
   "cell_type": "markdown",
   "id": "4fd68596",
   "metadata": {},
   "source": [
    "training:\n",
    "\n",
    "see https://github.com/arot-devs/SimpleTuner-a/blob/main/documentation/quickstart/HIDREAM.md\n",
    "\n",
    "\n",
    "to fix `The expanded size of the tensor (4096) must match the existing size ...`: set \"crop\" to `true` in `hidream/multidatabackend.json`\n",
    "\n",
    "To fix \"config different from datset\": remove the json inside dataset folder: \n",
    "- `rm ./data/b74444/aspect_ratio_bucket_indices_dreambooth-subject.json`"
   ]
  }
 ],
 "metadata": {
  "kernelspec": {
   "display_name": "base",
   "language": "python",
   "name": "python3"
  },
  "language_info": {
   "codemirror_mode": {
    "name": "ipython",
    "version": 3
   },
   "file_extension": ".py",
   "mimetype": "text/x-python",
   "name": "python",
   "nbconvert_exporter": "python",
   "pygments_lexer": "ipython3",
   "version": "3.10.16"
  }
 },
 "nbformat": 4,
 "nbformat_minor": 5
}
